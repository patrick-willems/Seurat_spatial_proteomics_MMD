{
 "cells": [
  {
   "cell_type": "markdown",
   "metadata": {},
   "source": [
    "### Import packages"
   ]
  },
  {
   "cell_type": "code",
   "execution_count": null,
   "metadata": {},
   "outputs": [],
   "source": [
    "import os\n",
    "from aicsimageio import AICSImage\n",
    "from skimage import io\n",
    "import re"
   ]
  },
  {
   "cell_type": "markdown",
   "metadata": {},
   "source": [
    "### Specify paths"
   ]
  },
  {
   "cell_type": "code",
   "execution_count": null,
   "metadata": {},
   "outputs": [],
   "source": [
    "# Path to images to be cropped\n",
    "images_path = 'D:/Data/2023-07-CarolineAsselman-FIm/Analysis_v2/images_size_corrected'\n",
    "\n",
    "# Path to store cropped images\n",
    "output_path = 'D:/Data/2023-07-CarolineAsselman-FIm/Analysis_v2/cropped_images'\n",
    "os.makedirs(output_path, exist_ok = True)"
   ]
  },
  {
   "cell_type": "markdown",
   "metadata": {},
   "source": [
    "### Crop images to usable ROI"
   ]
  },
  {
   "cell_type": "code",
   "execution_count": null,
   "metadata": {},
   "outputs": [],
   "source": [
    "def crop(images_path, output_path, min_x, max_x, min_y, max_y):\n",
    "    os.makedirs(images_path, exist_ok = True)\n",
    "    os.makedirs(output_path, exist_ok = True)\n",
    "\n",
    "    for file in os.listdir(os.path.join(images_path)):\n",
    "        if (file.endswith('.tif') or file.endswith('tiff')):\n",
    "            img = io.imread(os.path.join(images_path, file))\n",
    "            img_cropped = img[min_y:max_y, min_x:max_x]\n",
    "            \n",
    "            output_file = os.path.join(output_path, file)\n",
    "            io.imsave(output_file, img_cropped)"
   ]
  },
  {
   "cell_type": "code",
   "execution_count": null,
   "metadata": {},
   "outputs": [],
   "source": [
    "crop(\n",
    "    images_path = f'{images_path}/A1_ROI1', \n",
    "    output_path = f'{output_path}/A1_ROI1', \n",
    "    min_x=1235, max_x=8235, min_y=5250, max_y=9750)"
   ]
  }
 ],
 "metadata": {
  "kernelspec": {
   "display_name": "scratch",
   "language": "python",
   "name": "python3"
  },
  "language_info": {
   "codemirror_mode": {
    "name": "ipython",
    "version": 3
   },
   "file_extension": ".py",
   "mimetype": "text/x-python",
   "name": "python",
   "nbconvert_exporter": "python",
   "pygments_lexer": "ipython3",
   "version": "3.8.15"
  }
 },
 "nbformat": 4,
 "nbformat_minor": 2
}
