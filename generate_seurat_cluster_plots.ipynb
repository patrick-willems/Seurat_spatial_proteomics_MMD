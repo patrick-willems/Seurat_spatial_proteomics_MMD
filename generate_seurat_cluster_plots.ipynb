{
 "cells": [
  {
   "cell_type": "markdown",
   "metadata": {},
   "source": [
    "Environment: napari_sparrow"
   ]
  },
  {
   "cell_type": "code",
   "execution_count": null,
   "metadata": {},
   "outputs": [],
   "source": [
    "%load_ext autoreload\n",
    "%autoreload 2"
   ]
  },
  {
   "cell_type": "markdown",
   "metadata": {},
   "source": [
    "### Import packages"
   ]
  },
  {
   "cell_type": "code",
   "execution_count": null,
   "metadata": {},
   "outputs": [],
   "source": [
    "import sparrow as sp\n",
    "import os\n",
    "import spatialdata as sd\n",
    "import anndata as ad\n",
    "import numpy as np\n",
    "import cv2 as cv2\n",
    "from skimage import io\n",
    "import geopandas as gpd\n",
    "from shapely.geometry import Point\n",
    "import spatialdata as sd\n",
    "import pandas as pd\n",
    "from sparrow.table._table import _back_sdata_table_to_zarr\n",
    "from matplotlib import pyplot as plt\n",
    "import seaborn as sns\n",
    "from skimage.measure import regionprops_table\n",
    "from matplotlib.colors import LinearSegmentedColormap\n"
   ]
  },
  {
   "cell_type": "markdown",
   "metadata": {},
   "source": [
    "### Set paths and create folders"
   ]
  },
  {
   "cell_type": "code",
   "execution_count": null,
   "metadata": {},
   "outputs": [],
   "source": [
    "# Specify path to root folder\n",
    "root_folder = r'D:\\Data\\2023-07-CarolineAsselman-FIm\\Analysis_v2'\n",
    "\n",
    "# Specify ROI name\n",
    "ROI = 'A1_ROI1'\n",
    "\n",
    "# Path to input folders\n",
    "sdata_path = os.path.join(root_folder, 'output', ROI, 'downstream_analysis')\n",
    "\n",
    "# Path to output folders\n",
    "output_path = os.path.join(root_folder, 'analysis_seurat', ROI)\n",
    "plots_path = os.path.join(output_path, 'plots_2')\n",
    "os.makedirs(output_path, exist_ok = True)\n",
    "os.makedirs(plots_path, exist_ok = True)"
   ]
  },
  {
   "cell_type": "markdown",
   "metadata": {},
   "source": [
    "### Create or read sdata"
   ]
  },
  {
   "cell_type": "code",
   "execution_count": null,
   "metadata": {},
   "outputs": [],
   "source": [
    "sdata = sd.read_zarr(os.path.join(sdata_path, \"sdata.zarr\"))\n",
    "sdata"
   ]
  },
  {
   "cell_type": "markdown",
   "metadata": {},
   "source": [
    "### Read in seurat clusters"
   ]
  },
  {
   "cell_type": "code",
   "execution_count": null,
   "metadata": {},
   "outputs": [],
   "source": [
    "df = pd.read_csv(os.path.join(output_path, \"cells_per_cluster.txt\"), delimiter = '\\t')\n",
    "df = df[['cell_id', 'seurat_clusters']]\n",
    "df['seurat_clusters'] = df['seurat_clusters'].astype(str)\n",
    "df = df.set_index('cell_id')\n",
    "df.index = df.index.astype(str)\n",
    "df"
   ]
  },
  {
   "cell_type": "markdown",
   "metadata": {},
   "source": [
    "### Add seurat clusters to anndata table"
   ]
  },
  {
   "cell_type": "code",
   "execution_count": null,
   "metadata": {},
   "outputs": [],
   "source": [
    "sdata.table.obs = sdata.table.obs.merge(df, left_index=True, right_index=True, how='outer')"
   ]
  },
  {
   "cell_type": "markdown",
   "metadata": {},
   "source": [
    "### Create plots"
   ]
  },
  {
   "cell_type": "code",
   "execution_count": null,
   "metadata": {},
   "outputs": [],
   "source": [
    "from matplotlib.colors import ListedColormap\n",
    "\n",
    "# Define the colors in a dictionary format\n",
    "colors_dict = {\n",
    "    '0': \"#f0e442\",\n",
    "    '1': \"#d55e00\",\n",
    "    '2': \"#009e73\",\n",
    "    '3': \"#0072b2\",\n",
    "    '4': \"#cc79a7\",\n",
    "}\n",
    "\n",
    "# Create a custom colormap\n",
    "cmap = ListedColormap([colors_dict[key] for key in sorted(colors_dict.keys())])\n"
   ]
  },
  {
   "cell_type": "code",
   "execution_count": null,
   "metadata": {},
   "outputs": [],
   "source": [
    "sp.pl.plot_shapes(\n",
    "    sdata, \n",
    "    img_layer='raw_image',\n",
    "    channel = 'DAPI',\n",
    "    shapes_layer=\"segmentation_mask_merged_boundaries\", \n",
    "    output=os.path.join(plots_path , 'seurat_clusters_all.png'),\n",
    "    alpha=1,\n",
    "    cmap=cmap,\n",
    "    column='seurat_clusters',\n",
    "    figsize=(17.5, 11.25)\n",
    ")"
   ]
  },
  {
   "cell_type": "code",
   "execution_count": null,
   "metadata": {},
   "outputs": [],
   "source": [
    "seurat_clusters = [\"0\", \"1\", \"2\", \"3\", \"4\"]\n",
    "\n",
    "for cluster in seurat_clusters:\n",
    "    \n",
    "    sdata.table.obs[cluster] = 'Other'\n",
    "    sdata.table.obs.loc[sdata.table.obs['seurat_clusters']== cluster, cluster] = cluster\n",
    "    sdata.table.obs.loc[sdata.table.obs['seurat_clusters'].isna(), cluster] = np.nan\n",
    "    \n",
    "    cmap_sub = ListedColormap([colors_dict[cluster],'#AEAEAE'])\n",
    "    \n",
    "    sp.pl.plot_shapes(\n",
    "        sdata, \n",
    "        img_layer='raw_image',\n",
    "        channel = 'DAPI',\n",
    "        shapes_layer=\"segmentation_mask_merged_boundaries\", \n",
    "        output=os.path.join(plots_path , f'seurat_clusters_{cluster}.png'),\n",
    "        alpha=1,\n",
    "        cmap=cmap_sub,\n",
    "        column=cluster,\n",
    "        figsize=(17.5, 11.25)\n",
    "    )\n",
    "    \n",
    "    sdata.table.obs = sdata.table.obs.drop([cluster], axis=1)"
   ]
  },
  {
   "cell_type": "code",
   "execution_count": null,
   "metadata": {},
   "outputs": [],
   "source": [
    "sdata.table.obs['0_3'] = np.nan\n",
    "sdata.table.obs.loc[sdata.table.obs['seurat_clusters']== '0', '0_3'] = '0'\n",
    "sdata.table.obs.loc[sdata.table.obs['seurat_clusters']== '1', '0_3'] = 'Other'\n",
    "sdata.table.obs.loc[sdata.table.obs['seurat_clusters']== '2', '0_3'] = 'Other'\n",
    "sdata.table.obs.loc[sdata.table.obs['seurat_clusters']== '3', '0_3'] = '3'\n",
    "sdata.table.obs.loc[sdata.table.obs['seurat_clusters']== '4', '0_3'] = 'Other'\n",
    "\n",
    "cmap_sub = ListedColormap([colors_dict['0'], colors_dict['3'], '#AEAEAE'])\n",
    "\n",
    "sp.pl.plot_shapes(\n",
    "    sdata, \n",
    "    img_layer='raw_image',\n",
    "    channel = 'DAPI',\n",
    "    shapes_layer=\"segmentation_mask_merged_boundaries\", \n",
    "    output=os.path.join(plots_path , 'seurat_clusters_0_3.png'),\n",
    "    alpha=1,\n",
    "    cmap=cmap_sub,\n",
    "    column='0_3',\n",
    "    figsize=(17.5, 11.25)\n",
    ")\n",
    "\n",
    "sdata.table.obs = sdata.table.obs.drop(['0_3'], axis=1)"
   ]
  },
  {
   "cell_type": "markdown",
   "metadata": {},
   "source": [
    "### Plots for immune cells"
   ]
  },
  {
   "cell_type": "code",
   "execution_count": null,
   "metadata": {},
   "outputs": [],
   "source": [
    "df_immune = pd.read_csv(os.path.join(output_path, \"immunecells_per_cluster.txt\"), delimiter = '\\t')\n",
    "df_immune = df_immune[['cell', 'seurat_clusters']]\n",
    "df_immune['seurat_clusters_immune'] = df_immune['seurat_clusters'].astype(str)\n",
    "df_immune = df_immune.drop('seurat_clusters', axis=1)\n",
    "df_immune = df_immune.set_index('cell')\n",
    "df_immune.index = df_immune.index.astype(str)\n",
    "df_immune"
   ]
  },
  {
   "cell_type": "code",
   "execution_count": null,
   "metadata": {},
   "outputs": [],
   "source": [
    "# Define the colors in a dictionary format\n",
    "colors_dict = {\n",
    "    '0': \"#d55e00\",\n",
    "    '1': \"#0072b2\",\n",
    "    '2': \"#f0e442\",\n",
    "    '3': \"#cc79a7\",\n",
    "}\n",
    "\n",
    "# Create a custom colormap\n",
    "cmap_sub = ListedColormap([colors_dict[key] for key in sorted(colors_dict.keys())])\n"
   ]
  },
  {
   "cell_type": "code",
   "execution_count": null,
   "metadata": {},
   "outputs": [],
   "source": [
    "sdata.table.obs = sdata.table.obs.merge(df_immune, left_index=True, right_index=True, how='outer')\n",
    "# sdata.table.obs['seurat_clusters_immune'] = sdata.table.obs['seurat_clusters_immune'].fillna('Other')"
   ]
  },
  {
   "cell_type": "code",
   "execution_count": null,
   "metadata": {},
   "outputs": [],
   "source": [
    "sp.pl.plot_shapes(\n",
    "    sdata, \n",
    "    img_layer='raw_image',\n",
    "    channel = 'DAPI',\n",
    "    shapes_layer=\"segmentation_mask_merged_boundaries\", \n",
    "    output=os.path.join(plots_path , 'seurat_clusters_immune_all.png'),\n",
    "    alpha=1,\n",
    "    cmap=cmap_sub,\n",
    "    column='seurat_clusters_immune',\n",
    "    figsize=(17.5, 11.25)\n",
    ")"
   ]
  },
  {
   "cell_type": "code",
   "execution_count": null,
   "metadata": {},
   "outputs": [],
   "source": [
    "seurat_clusters_immune = [\"0\", \"1\", \"2\", \"3\"]\n",
    "\n",
    "for cluster in seurat_clusters_immune:\n",
    "    \n",
    "    sdata.table.obs[cluster] = 'Other'\n",
    "    sdata.table.obs.loc[sdata.table.obs['seurat_clusters_immune']== cluster, cluster] = cluster\n",
    "    sdata.table.obs.loc[sdata.table.obs['seurat_clusters_immune'].isna(), cluster] = np.nan\n",
    "    \n",
    "    cmap_sub = ListedColormap([colors_dict[cluster],'#AEAEAE'])\n",
    "    \n",
    "    sp.pl.plot_shapes(\n",
    "        sdata, \n",
    "        img_layer='raw_image',\n",
    "        channel = 'DAPI',\n",
    "        shapes_layer=\"segmentation_mask_merged_boundaries\", \n",
    "        output=os.path.join(plots_path , f'seurat_clusters_immune_{cluster}.png'),\n",
    "        alpha=1,\n",
    "        cmap=cmap_sub,\n",
    "        column=cluster,\n",
    "        figsize=(17.5, 11.25)\n",
    "    )\n",
    "    \n",
    "    sdata.table.obs = sdata.table.obs.drop([cluster], axis=1)"
   ]
  },
  {
   "cell_type": "code",
   "execution_count": null,
   "metadata": {},
   "outputs": [],
   "source": [
    "sdata"
   ]
  }
 ],
 "metadata": {
  "kernelspec": {
   "display_name": "mesmer_sparrow",
   "language": "python",
   "name": "python3"
  },
  "language_info": {
   "codemirror_mode": {
    "name": "ipython",
    "version": 3
   },
   "file_extension": ".py",
   "mimetype": "text/x-python",
   "name": "python",
   "nbconvert_exporter": "python",
   "pygments_lexer": "ipython3",
   "version": "3.10.8"
  }
 },
 "nbformat": 4,
 "nbformat_minor": 2
}
