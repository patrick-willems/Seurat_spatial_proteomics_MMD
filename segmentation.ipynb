{
 "cells": [
  {
   "cell_type": "markdown",
   "metadata": {},
   "source": [
    "Environment: napari-sparrow"
   ]
  },
  {
   "cell_type": "code",
   "execution_count": null,
   "metadata": {},
   "outputs": [],
   "source": [
    "%load_ext autoreload\n",
    "%autoreload 2"
   ]
  },
  {
   "cell_type": "markdown",
   "metadata": {},
   "source": [
    "### Import packages"
   ]
  },
  {
   "cell_type": "code",
   "execution_count": null,
   "metadata": {},
   "outputs": [],
   "source": [
    "import napari_sparrow as nas\n",
    "import sparrow as sp\n",
    "import os\n",
    "import spatialdata as sd\n",
    "import numpy as np\n",
    "import cv2 as cv2\n",
    "from skimage import io"
   ]
  },
  {
   "cell_type": "markdown",
   "metadata": {},
   "source": [
    "### Set paths and create folders"
   ]
  },
  {
   "cell_type": "code",
   "execution_count": null,
   "metadata": {},
   "outputs": [],
   "source": [
    "# Specify path to root folder\n",
    "root_folder = 'D:/Data/2023-07-CarolineAsselman-FIm/Analysis_v2'\n",
    "\n",
    "# Specify ROI name\n",
    "\n",
    "ROI = 'A1_ROI1'\n",
    "\n",
    "# Path to input folder\n",
    "images_path = os.path.join(root_folder, 'cropped_images', ROI)\n",
    "\n",
    "# Path to output folders\n",
    "output_path = os.path.join(root_folder, 'output', ROI, 'segmentation')\n",
    "plots_path = os.path.join(output_path, 'plots')\n",
    "masks_path = os.path.join(output_path, 'masks')\n",
    "os.makedirs(output_path, exist_ok = True)\n",
    "os.makedirs(plots_path, exist_ok = True)\n",
    "os.makedirs(masks_path, exist_ok = True)"
   ]
  },
  {
   "cell_type": "markdown",
   "metadata": {},
   "source": [
    "### Specify channels for segmentation"
   ]
  },
  {
   "cell_type": "code",
   "execution_count": null,
   "metadata": {},
   "outputs": [],
   "source": [
    "from gene_lists import nucleus, RBC, immune\n",
    "segmentation_channels = nucleus + RBC + immune"
   ]
  },
  {
   "cell_type": "code",
   "execution_count": null,
   "metadata": {},
   "outputs": [],
   "source": [
    "input_list = []\n",
    "c_coords_list = []\n",
    "\n",
    "def create_input_lists(channel_list):\n",
    "    for file in os.listdir(images_path):\n",
    "        if (file.endswith('.tif') or file.endswith('tiff')) and any(channel in file for channel in channel_list):\n",
    "            input_list.append(os.path.join(images_path, file))\n",
    "            filename = os.path.splitext(file)[0]\n",
    "            channel_name = [channel for channel in channel_list if channel in filename]\n",
    "            c_coords_list.append(' '.join(channel_name))\n",
    "        \n",
    "create_input_lists(segmentation_channels)\n"
   ]
  },
  {
   "cell_type": "markdown",
   "metadata": {},
   "source": [
    "### Create or read sdata"
   ]
  },
  {
   "cell_type": "code",
   "execution_count": null,
   "metadata": {},
   "outputs": [],
   "source": [
    "sdata = sp.io.create_sdata(\n",
    "    input= input_list,\n",
    "    c_coords= c_coords_list,\n",
    "    output_path=os.path.join(output_path, \"sdata.zarr\"),\n",
    "    img_layer=\"raw_image\",\n",
    "    chunks=1024)\n",
    "sdata"
   ]
  },
  {
   "cell_type": "markdown",
   "metadata": {},
   "source": [
    "### Clean images"
   ]
  },
  {
   "cell_type": "code",
   "execution_count": null,
   "metadata": {},
   "outputs": [],
   "source": [
    "for channel in segmentation_channels:\n",
    "    sp.pl.plot_image(\n",
    "        sdata, \n",
    "        img_layer='raw_image',\n",
    "        output=os.path.join(plots_path , f'{channel}_0_raw.png'),\n",
    "        channel=channel,\n",
    "        vmin_img=0,\n",
    "        vmax_img=65535, \n",
    "        figsize=(35,22.5)\n",
    "    )"
   ]
  },
  {
   "cell_type": "markdown",
   "metadata": {},
   "source": [
    "##### Histogram adjustment"
   ]
  },
  {
   "cell_type": "code",
   "execution_count": null,
   "metadata": {},
   "outputs": [],
   "source": [
    "def histogram_adjustment(image, lower_channel_value: int = 100, higher_channel_value: int = 60000):\n",
    "    image = image.compute()\n",
    "    clipped_image = np.clip(image, lower_channel_value, higher_channel_value).astype(np.float64)\n",
    "    new_image = np.clip(((clipped_image - lower_channel_value) / (higher_channel_value - lower_channel_value) * 65535), 0, 65535).astype(np.uint16)\n",
    "    return new_image"
   ]
  },
  {
   "cell_type": "code",
   "execution_count": null,
   "metadata": {},
   "outputs": [],
   "source": [
    "fn_kwargs={\n",
    "    'DAPI': {\"lower_channel_value\": 6000, \"higher_channel_value\": 65535},\n",
    "    'CD233_C-REA368': {\"lower_channel_value\": 600, \"higher_channel_value\": 25000},\n",
    "    'CD15_C-VIMC6': {\"lower_channel_value\": 100, \"higher_channel_value\": 10000},\n",
    "    'CD43_C-REA833': {\"lower_channel_value\": 1200, \"higher_channel_value\": 9000},\n",
    "    'CD45_C-5B1': {\"lower_channel_value\": 200, \"higher_channel_value\": 15000},\n",
    "    'CD45RA_C-REAL164': {\"lower_channel_value\": 300, \"higher_channel_value\": 12000},\n",
    "    'CD45RB_C-REA119': {\"lower_channel_value\": 200, \"higher_channel_value\": 12000},\n",
    "    'CD66b_C-REA306': {\"lower_channel_value\": 200, \"higher_channel_value\": 14000},\n",
    "    'CD162_C-REA319': {\"lower_channel_value\": 800, \"higher_channel_value\": 4200},\n",
    "    'HLADR_C-REAL550': {\"lower_channel_value\": 200, \"higher_channel_value\": 10000},\n",
    "    'Syk_C-REA111': {\"lower_channel_value\": 200, \"higher_channel_value\": 3200},\n",
    "    'CD57_C-REA769': {\"lower_channel_value\": 300, \"higher_channel_value\": 40000}\n",
    "}"
   ]
  },
  {
   "cell_type": "code",
   "execution_count": null,
   "metadata": {},
   "outputs": [],
   "source": [
    "sdata = sp.im.apply(\n",
    "    sdata,\n",
    "    histogram_adjustment,\n",
    "    img_layer='raw_image',\n",
    "    output_layer='hist',\n",
    "    crd=None,\n",
    "    chunks=None,\n",
    "    overwrite=True,\n",
    "    channel=segmentation_channels,\n",
    "    fn_kwargs=fn_kwargs,\n",
    "    combine_c=False\n",
    ")"
   ]
  },
  {
   "cell_type": "code",
   "execution_count": null,
   "metadata": {},
   "outputs": [],
   "source": [
    "for channel in segmentation_channels:\n",
    "    sp.pl.plot_image(\n",
    "        sdata, \n",
    "        img_layer='hist',\n",
    "        output=os.path.join(plots_path , f'{channel}_1_hist.png'),\n",
    "        channel=channel,\n",
    "        vmin_img=0,\n",
    "        vmax_img=65535, \n",
    "        figsize=(35,22.5)\n",
    "    )"
   ]
  },
  {
   "cell_type": "markdown",
   "metadata": {},
   "source": [
    "##### min/max filtering"
   ]
  },
  {
   "cell_type": "code",
   "execution_count": null,
   "metadata": {},
   "outputs": [],
   "source": [
    "sdata = sp.im.min_max_filtering(\n",
    "    sdata,\n",
    "    img_layer=\"hist\", \n",
    "    size_min_max_filter=85,\n",
    "    output_layer=\"min_max_filtered\", \n",
    "    overwrite=True)"
   ]
  },
  {
   "cell_type": "code",
   "execution_count": null,
   "metadata": {},
   "outputs": [],
   "source": [
    "for channel in segmentation_channels:\n",
    "    sp.pl.plot_image(\n",
    "        sdata, \n",
    "        img_layer='min_max_filtered',\n",
    "        output=os.path.join(plots_path , f'{channel}_2_min_max.png'),\n",
    "        channel=channel,\n",
    "        vmin_img=0,\n",
    "        vmax_img=65535, \n",
    "        figsize=(35,22.5)\n",
    "    )"
   ]
  },
  {
   "cell_type": "markdown",
   "metadata": {},
   "source": [
    "##### contrast enhancement"
   ]
  },
  {
   "cell_type": "code",
   "execution_count": null,
   "metadata": {},
   "outputs": [],
   "source": [
    "sdata = sp.im.enhance_contrast(\n",
    "    sdata,\n",
    "    img_layer=\"min_max_filtered\", \n",
    "    contrast_clip=0.5,\n",
    "    output_layer=\"clahe\", \n",
    "    overwrite=True)"
   ]
  },
  {
   "cell_type": "code",
   "execution_count": null,
   "metadata": {},
   "outputs": [],
   "source": [
    "for channel in segmentation_channels:\n",
    "    sp.pl.plot_image(\n",
    "        sdata, \n",
    "        img_layer='clahe',\n",
    "        output=os.path.join(plots_path , f'{channel}_3_clahe.png'),\n",
    "        channel=channel,\n",
    "        vmin_img=0,\n",
    "        vmax_img=65535, \n",
    "        figsize=(35,22.5)\n",
    "    )"
   ]
  },
  {
   "cell_type": "markdown",
   "metadata": {},
   "source": [
    "### Combine channels"
   ]
  },
  {
   "cell_type": "markdown",
   "metadata": {},
   "source": [
    "##### Immune cells"
   ]
  },
  {
   "cell_type": "code",
   "execution_count": null,
   "metadata": {},
   "outputs": [],
   "source": [
    "sdata = sp.im.combine(\n",
    "    sdata, \n",
    "    img_layer=\"clahe\", \n",
    "    output_layer=\"combined_immune\", \n",
    "    nuc_channels=nucleus, \n",
    "    mem_channels=immune, \n",
    "    overwrite=True)"
   ]
  },
  {
   "cell_type": "code",
   "execution_count": null,
   "metadata": {},
   "outputs": [],
   "source": [
    "sp.pl.plot_image(\n",
    "    sdata, \n",
    "    img_layer='combined_immune',\n",
    "    output=os.path.join(plots_path , f'combined_immune.png'),\n",
    "    channel=1,\n",
    "    vmin_img=0,\n",
    "    vmax_img=180000, \n",
    "    figsize=(35,22.5)\n",
    ")"
   ]
  },
  {
   "cell_type": "code",
   "execution_count": null,
   "metadata": {},
   "outputs": [],
   "source": [
    "sdata = sp.im.min_max_filtering(\n",
    "    sdata,\n",
    "    img_layer=\"combined_immune\", \n",
    "    size_min_max_filter=85,\n",
    "    output_layer=\"combined_immune_min_max_filtered\", \n",
    "    overwrite=True)"
   ]
  },
  {
   "cell_type": "code",
   "execution_count": null,
   "metadata": {},
   "outputs": [],
   "source": [
    "sp.pl.plot_image(\n",
    "    sdata, \n",
    "    img_layer='combined_immune_min_max_filtered',\n",
    "    output=os.path.join(plots_path , f'combined_immune_min_max.png'),\n",
    "    channel=1,\n",
    "    vmin_img=0,\n",
    "    vmax_img=180000, \n",
    "    figsize=(35,22.5)\n",
    ")"
   ]
  },
  {
   "cell_type": "markdown",
   "metadata": {},
   "source": [
    "##### RBC"
   ]
  },
  {
   "cell_type": "code",
   "execution_count": null,
   "metadata": {},
   "outputs": [],
   "source": [
    "sdata = sp.im.combine(\n",
    "    sdata, \n",
    "    img_layer=\"clahe\", \n",
    "    output_layer=\"combined_RBC\", \n",
    "    nuc_channels=nucleus, \n",
    "    mem_channels=RBC, \n",
    "    overwrite=True)"
   ]
  },
  {
   "cell_type": "markdown",
   "metadata": {},
   "source": [
    "### Segmentation"
   ]
  },
  {
   "cell_type": "markdown",
   "metadata": {},
   "source": [
    "#### Import segmentation model"
   ]
  },
  {
   "cell_type": "code",
   "execution_count": null,
   "metadata": {},
   "outputs": [],
   "source": [
    "from sparrow.image.segmentation.segmentation_models._cellpose import _cellpose"
   ]
  },
  {
   "cell_type": "markdown",
   "metadata": {},
   "source": [
    "#### Nucleus"
   ]
  },
  {
   "cell_type": "markdown",
   "metadata": {},
   "source": [
    "##### Nucleus segmentation"
   ]
  },
  {
   "cell_type": "code",
   "execution_count": null,
   "metadata": {},
   "outputs": [],
   "source": [
    "sdata = sp.im.segment( \n",
    "    sdata=sdata, \n",
    "    img_layer='combined_immune',\n",
    "    output_labels_layer='segmentation_nucleus',\n",
    "    output_shapes_layer='segmentation_nucleus_boundaries',\n",
    "    device='cpu',\n",
    "    model=_cellpose,\n",
    "    min_size=80,\n",
    "    flow_threshold=0.9,\n",
    "    diameter=50,\n",
    "    cellprob_threshold=-4,\n",
    "    model_type='nuclei',\n",
    "    chunks=2048,\n",
    "    depth=(2*50,2*50),\n",
    "    overwrite=False, #Should be set to False for the first time this cell is run. From then on it should be set to True.\n",
    "    channels = [1, 0]\n",
    ")"
   ]
  },
  {
   "cell_type": "code",
   "execution_count": null,
   "metadata": {},
   "outputs": [],
   "source": [
    "sp.pl.plot_shapes(\n",
    "    sdata, \n",
    "    img_layer='combined_immune', \n",
    "    channel = 0, \n",
    "    output=os.path.join(plots_path , 'segmentation_nucleus_0_DAPI.png'),\n",
    "    vmin_img=0,\n",
    "    vmax_img=65535,\n",
    "    alpha=0.2,\n",
    "    figsize=(35,22.5))"
   ]
  },
  {
   "cell_type": "code",
   "execution_count": null,
   "metadata": {},
   "outputs": [],
   "source": [
    "sp.pl.plot_shapes(\n",
    "    sdata, \n",
    "    img_layer='combined_immune', \n",
    "    channel = 0, \n",
    "    shapes_layer=\"segmentation_nucleus_boundaries\", \n",
    "    output=os.path.join(plots_path , 'segmentation_nucleus_1_unfiltered.png'),\n",
    "    vmin_img=0,\n",
    "    vmax_img=65535,\n",
    "    alpha=0.2,\n",
    "    figsize=(35,22.5))"
   ]
  },
  {
   "cell_type": "markdown",
   "metadata": {},
   "source": [
    "##### Filter nuclei based on size"
   ]
  },
  {
   "cell_type": "code",
   "execution_count": null,
   "metadata": {},
   "outputs": [],
   "source": [
    "# Filter based on size\n",
    "min_area = 250 # in pixels\n",
    "max_area = 4000 # in pixels\n",
    "sdata.shapes['segmentation_nucleus_filtered_boundaries'] = sdata.shapes['segmentation_nucleus_boundaries'][\n",
    "    (sdata.shapes['segmentation_nucleus_boundaries'].area >= min_area) &\n",
    "    (sdata.shapes['segmentation_nucleus_boundaries'].area <= max_area)\n",
    "]\n",
    "sd.save_transformations(sdata)"
   ]
  },
  {
   "cell_type": "code",
   "execution_count": null,
   "metadata": {},
   "outputs": [],
   "source": [
    "sp.pl.plot_shapes(\n",
    "    sdata, \n",
    "    img_layer='combined_immune', \n",
    "    channel = 0, \n",
    "    shapes_layer=\"segmentation_nucleus_filtered_boundaries\", \n",
    "    output=os.path.join(plots_path , 'segmentation_nucleus_2_filtered.png'),\n",
    "    vmin_img=0,\n",
    "    vmax_img=65535,\n",
    "    alpha=0.2,\n",
    "    figsize=(35,22.5))"
   ]
  },
  {
   "cell_type": "markdown",
   "metadata": {},
   "source": [
    "##### Convert filtered shapes layer into labels layer"
   ]
  },
  {
   "cell_type": "code",
   "execution_count": null,
   "metadata": {},
   "outputs": [],
   "source": [
    "import rasterio.features\n",
    "from affine import Affine\n",
    "\n",
    "def create_labels_from_shapes(sdata, shapes_layer: str, out_shape: list, output_layer: str):\n",
    "    \n",
    "    transform = Affine.translation(0, 0)\n",
    "    \n",
    "    masks = rasterio.features.rasterize(\n",
    "        zip(\n",
    "            sdata[shapes_layer].geometry,\n",
    "            sdata[shapes_layer].index.values.astype(float),\n",
    "        ),\n",
    "        out_shape=out_shape,\n",
    "        dtype=\"uint32\",\n",
    "        fill=0,\n",
    "        transform=transform\n",
    "    )\n",
    "\n",
    "    sdata = sp.im._add_label_layer(sdata, arr=masks, chunks=1024, output_layer=output_layer)\n",
    "\n",
    "    return sdata"
   ]
  },
  {
   "cell_type": "code",
   "execution_count": null,
   "metadata": {},
   "outputs": [],
   "source": [
    "sdata = create_labels_from_shapes(\n",
    "    sdata,\n",
    "    shapes_layer = 'segmentation_nucleus_filtered_boundaries',\n",
    "    out_shape = [4500, 7000],\n",
    "    output_layer = 'segmentation_nucleus_filtered'\n",
    ")"
   ]
  },
  {
   "cell_type": "markdown",
   "metadata": {},
   "source": [
    "##### Expand nuclei"
   ]
  },
  {
   "cell_type": "code",
   "execution_count": null,
   "metadata": {},
   "outputs": [],
   "source": [
    "sdata=sp.im.expand_labels_layer(\n",
    "        sdata,\n",
    "        labels_layer=\"segmentation_nucleus_filtered\",\n",
    "        distance=10,\n",
    "        depth=200,\n",
    "        chunks=5000,\n",
    "        output_labels_layer=\"segmentation_nucleus_expanded\",\n",
    "        output_shapes_layer=\"segmentation_nucleus_expanded_boundaries\",\n",
    "        overwrite=True,\n",
    "    )"
   ]
  },
  {
   "cell_type": "code",
   "execution_count": null,
   "metadata": {},
   "outputs": [],
   "source": [
    "sp.pl.plot_shapes(\n",
    "    sdata, \n",
    "    img_layer='combined_immune', \n",
    "    channel = 0, \n",
    "    shapes_layer=\"segmentation_nucleus_expanded_boundaries\", \n",
    "    output=os.path.join(plots_path , 'segmentation_nucleus_3_expanded.png'),\n",
    "    vmin_img=0,\n",
    "    vmax_img=65535,\n",
    "    alpha=0.2,\n",
    "    figsize=(35,22.5))"
   ]
  },
  {
   "cell_type": "markdown",
   "metadata": {},
   "source": [
    "#### Immune cells"
   ]
  },
  {
   "cell_type": "markdown",
   "metadata": {},
   "source": [
    "#### Cell segmentation"
   ]
  },
  {
   "cell_type": "code",
   "execution_count": null,
   "metadata": {},
   "outputs": [],
   "source": [
    "sdata = sp.im.segment( \n",
    "    sdata=sdata, \n",
    "    img_layer='combined_immune_min_max_filtered',\n",
    "    output_labels_layer='segmentation_immune_whole_cell',\n",
    "    output_shapes_layer='segmentation_immune_whole_cell_boundaries',\n",
    "    device='cpu',\n",
    "    model=_cellpose,\n",
    "    min_size=80,\n",
    "    flow_threshold=0.9,\n",
    "    diameter=50,\n",
    "    cellprob_threshold=-3,\n",
    "    model_type='cyto',\n",
    "    chunks=2048,\n",
    "    depth=(2*50,2*50),\n",
    "    overwrite=True, #Should be set to False for the first time this cell is run. From then on it should be set to True.\n",
    "    channels = [2, 1]\n",
    ")"
   ]
  },
  {
   "cell_type": "code",
   "execution_count": null,
   "metadata": {},
   "outputs": [],
   "source": [
    "sp.pl.plot_shapes(\n",
    "    sdata, \n",
    "    img_layer='combined_immune_min_max_filtered', \n",
    "    channel = 0, \n",
    "    output=os.path.join(plots_path , 'segmentation_immune_0_DAPI.png'),\n",
    "    vmin_img=0,\n",
    "    vmax_img=65535,\n",
    "    figsize=(35,22.5))"
   ]
  },
  {
   "cell_type": "code",
   "execution_count": null,
   "metadata": {},
   "outputs": [],
   "source": [
    "sp.pl.plot_shapes(\n",
    "    sdata, \n",
    "    img_layer='combined_immune_min_max_filtered', \n",
    "    channel = 0, \n",
    "    shapes_layer=\"segmentation_immune_whole_cell_boundaries\", \n",
    "    output=os.path.join(plots_path , 'segmentation_immune_1_DAPI_unfiltered.png'),\n",
    "    vmin_img=0,\n",
    "    vmax_img=65535,\n",
    "    alpha=0.2,\n",
    "    figsize=(35,22.5))"
   ]
  },
  {
   "cell_type": "code",
   "execution_count": null,
   "metadata": {},
   "outputs": [],
   "source": [
    "sp.pl.plot_shapes(\n",
    "    sdata, \n",
    "    img_layer='combined_immune_min_max_filtered', \n",
    "    channel = 1, \n",
    "    output=os.path.join(plots_path , 'segmentation_immune_2_protein.png'),\n",
    "    vmin_img=0,\n",
    "    vmax_img=170000,\n",
    "    figsize=(35,22.5))"
   ]
  },
  {
   "cell_type": "code",
   "execution_count": null,
   "metadata": {},
   "outputs": [],
   "source": [
    "sp.pl.plot_shapes(\n",
    "    sdata, \n",
    "    img_layer='combined_immune_min_max_filtered', \n",
    "    channel = 1, \n",
    "    shapes_layer=\"segmentation_immune_whole_cell_boundaries\", \n",
    "    output=os.path.join(plots_path , 'segmentation_immune_3_protein_unfiltered.png'),\n",
    "    vmin_img=0,\n",
    "    vmax_img=170000,\n",
    "    alpha=0.2,\n",
    "    figsize=(35,22.5))"
   ]
  },
  {
   "cell_type": "markdown",
   "metadata": {},
   "source": [
    "##### Filter immune cells based on size"
   ]
  },
  {
   "cell_type": "code",
   "execution_count": null,
   "metadata": {},
   "outputs": [],
   "source": [
    "# Filter based on size\n",
    "min_area = 250 # in pixels\n",
    "max_area = 5500 # in pixels\n",
    "sdata.shapes['segmentation_immune_cell_size_filtered_boundaries'] = sdata.shapes['segmentation_immune_whole_cell_boundaries'][\n",
    "    (sdata.shapes['segmentation_immune_whole_cell_boundaries'].area >= min_area) &\n",
    "    (sdata.shapes['segmentation_immune_whole_cell_boundaries'].area <= max_area)\n",
    "]\n",
    "sd.save_transformations(sdata)"
   ]
  },
  {
   "cell_type": "code",
   "execution_count": null,
   "metadata": {},
   "outputs": [],
   "source": [
    "sp.pl.plot_shapes(\n",
    "    sdata, \n",
    "    img_layer='combined_immune_min_max_filtered', \n",
    "    channel = 1, \n",
    "    shapes_layer=\"segmentation_immune_cell_size_filtered_boundaries\", \n",
    "    output=os.path.join(plots_path , 'segmentation_immune_4_size_filtered.png'),\n",
    "    vmin_img=0,\n",
    "    vmax_img=170000,\n",
    "    alpha=0.2,\n",
    "    figsize=(35,22.5))"
   ]
  },
  {
   "cell_type": "markdown",
   "metadata": {},
   "source": [
    "##### Filter immune cells based on intensity"
   ]
  },
  {
   "cell_type": "code",
   "execution_count": null,
   "metadata": {},
   "outputs": [],
   "source": [
    "sdata = sp.tb.allocate_intensity(\n",
    "        sdata, img_layer=\"combined_immune_min_max_filtered\", labels_layer=\"segmentation_immune_whole_cell\", channels=1, chunks=4000)\n",
    "\n",
    "sdata = sp.tb.add_regionprop_features(\n",
    "        sdata, labels_layer=\"segmentation_immune_whole_cell\", append_labels_layer_name=False)"
   ]
  },
  {
   "cell_type": "code",
   "execution_count": null,
   "metadata": {},
   "outputs": [],
   "source": [
    "# Filter based on intensity\n",
    "min_intensity = 13000\n",
    "df_immune_filtered = (sdata.table.to_df()['1_segmentation_immune_whole_cell'] / sdata.table.obs['area'])> min_intensity\n",
    "index_list = df_immune_filtered.index[df_immune_filtered].tolist()\n",
    "\n",
    "sdata.shapes['segmentation_immune_cell_intensity_filtered_boundaries'] = sdata.shapes['segmentation_immune_cell_size_filtered_boundaries'][\n",
    "    sdata.shapes['segmentation_immune_cell_size_filtered_boundaries'].index.isin(index_list)\n",
    "]\n",
    "sd.save_transformations(sdata)"
   ]
  },
  {
   "cell_type": "code",
   "execution_count": null,
   "metadata": {},
   "outputs": [],
   "source": [
    "sp.pl.plot_shapes(\n",
    "    sdata, \n",
    "    img_layer='combined_immune', \n",
    "    channel = 1, \n",
    "    shapes_layer=\"segmentation_immune_cell_intensity_filtered_boundaries\", \n",
    "    output=os.path.join(plots_path , 'segmentation_immune_5_intensity_filtered.png'),\n",
    "    vmin_img=0,\n",
    "    vmax_img=170000,\n",
    "    alpha=0.2,\n",
    "    figsize=(35,22.5))"
   ]
  },
  {
   "cell_type": "code",
   "execution_count": null,
   "metadata": {},
   "outputs": [],
   "source": [
    "for channel in immune:\n",
    "    sp.pl.plot_shapes(\n",
    "        sdata, \n",
    "        img_layer='hist', \n",
    "        channel = channel, \n",
    "        shapes_layer=\"segmentation_immune_cell_intensity_filtered_boundaries\", \n",
    "        output=os.path.join(plots_path , f'segmentation_immune_6_intensity_filtered_{channel}.png'),\n",
    "        vmin_img=0,\n",
    "        vmax_img=65535,\n",
    "        alpha=0.2,\n",
    "        figsize=(35,22.5))"
   ]
  },
  {
   "cell_type": "markdown",
   "metadata": {},
   "source": [
    "##### Convert filtered shapes layer into labels layer"
   ]
  },
  {
   "cell_type": "code",
   "execution_count": null,
   "metadata": {},
   "outputs": [],
   "source": [
    "sdata = create_labels_from_shapes(\n",
    "    sdata,\n",
    "    shapes_layer = 'segmentation_immune_cell_intensity_filtered_boundaries',\n",
    "    out_shape = [4500, 7000],\n",
    "    output_layer = 'segmentation_immune_cell_intensity_filtered'\n",
    ")"
   ]
  },
  {
   "cell_type": "markdown",
   "metadata": {},
   "source": [
    "#### RBC"
   ]
  },
  {
   "cell_type": "markdown",
   "metadata": {},
   "source": [
    "##### Cell segmentation"
   ]
  },
  {
   "cell_type": "code",
   "execution_count": null,
   "metadata": {},
   "outputs": [],
   "source": [
    "sdata = sp.im.segment( \n",
    "    sdata=sdata, \n",
    "    img_layer='combined_RBC',\n",
    "    output_labels_layer='segmentation_RBC_cell',\n",
    "    output_shapes_layer='segmentation_RBC_cell_boundaries',\n",
    "    device='cpu',\n",
    "    model=_cellpose,\n",
    "    min_size=80,\n",
    "    flow_threshold=0.9,\n",
    "    diameter=50,\n",
    "    cellprob_threshold=-3,\n",
    "    model_type='cyto',\n",
    "    chunks=2048,\n",
    "    depth=(2*50,2*50),\n",
    "    overwrite=False, #Should be set to False for the first time this cell is run. From then on it should be set to True.\n",
    "    channels = [2, 0]\n",
    ")"
   ]
  },
  {
   "cell_type": "code",
   "execution_count": null,
   "metadata": {},
   "outputs": [],
   "source": [
    "sp.pl.plot_shapes(\n",
    "    sdata, \n",
    "    img_layer='combined_RBC', \n",
    "    channel = 1, \n",
    "    output=os.path.join(plots_path , 'segmentation_RBC_0_protein.png'),\n",
    "    vmin_img=0,\n",
    "    vmax_img=65535,\n",
    "    alpha=0.2,\n",
    "    figsize=(35,22.5))"
   ]
  },
  {
   "cell_type": "code",
   "execution_count": null,
   "metadata": {},
   "outputs": [],
   "source": [
    "sp.pl.plot_shapes(\n",
    "    sdata, \n",
    "    img_layer='combined_RBC', \n",
    "    channel = 1, \n",
    "    shapes_layer=\"segmentation_RBC_cell_boundaries\", \n",
    "    output=os.path.join(plots_path , 'segmentation_RBC_1_unfiltered.png'),\n",
    "    vmin_img=0,\n",
    "    vmax_img=65535,\n",
    "    alpha=0.2,\n",
    "    figsize=(35,22.5))"
   ]
  },
  {
   "cell_type": "markdown",
   "metadata": {},
   "source": [
    "##### Filter RBC based on size"
   ]
  },
  {
   "cell_type": "code",
   "execution_count": null,
   "metadata": {},
   "outputs": [],
   "source": [
    "# Filter based on size\n",
    "min_area = 250 # in pixels\n",
    "max_area = 2000 # in pixels\n",
    "sdata.shapes['segmentation_RBC_cell_size_filtered_boundaries'] = sdata.shapes['segmentation_RBC_cell_boundaries'][\n",
    "    (sdata.shapes['segmentation_RBC_cell_boundaries'].area >= min_area) &\n",
    "    (sdata.shapes['segmentation_RBC_cell_boundaries'].area <= max_area)\n",
    "]\n",
    "sd.save_transformations(sdata)"
   ]
  },
  {
   "cell_type": "code",
   "execution_count": null,
   "metadata": {},
   "outputs": [],
   "source": [
    "sp.pl.plot_shapes(\n",
    "    sdata, \n",
    "    img_layer='combined_RBC', \n",
    "    channel = 1, \n",
    "    shapes_layer=\"segmentation_RBC_cell_size_filtered_boundaries\", \n",
    "    output=os.path.join(plots_path , 'segmentation_RBC_2_size_filtered.png'),\n",
    "    vmin_img=0,\n",
    "    vmax_img=65535,\n",
    "    alpha=0.2,\n",
    "    figsize=(35,22.5))"
   ]
  },
  {
   "cell_type": "markdown",
   "metadata": {},
   "source": [
    "##### Filter RBC based on intensity"
   ]
  },
  {
   "cell_type": "code",
   "execution_count": null,
   "metadata": {},
   "outputs": [],
   "source": [
    "sdata = sp.tb.allocate_intensity(\n",
    "        sdata, img_layer=\"combined_RBC\", labels_layer=\"segmentation_RBC_cell\", channels=1, chunks=4000)\n",
    "\n",
    "sdata = sp.tb.add_regionprop_features(\n",
    "        sdata, labels_layer=\"segmentation_RBC_cell\", append_labels_layer_name=False)"
   ]
  },
  {
   "cell_type": "code",
   "execution_count": null,
   "metadata": {},
   "outputs": [],
   "source": [
    "# Filter based on intensity\n",
    "min_intensity = 3000\n",
    "df_RBC_filtered = (sdata.table.to_df()['1_segmentation_RBC_cell'] / sdata.table.obs['area'])> min_intensity\n",
    "index_list = df_RBC_filtered.index[df_RBC_filtered].tolist()\n",
    "\n",
    "sdata.shapes['segmentation_RBC_cell_intensity_filtered_boundaries'] = sdata.shapes['segmentation_RBC_cell_size_filtered_boundaries'][\n",
    "    sdata.shapes['segmentation_RBC_cell_size_filtered_boundaries'].index.isin(index_list)\n",
    "]\n",
    "sd.save_transformations(sdata)"
   ]
  },
  {
   "cell_type": "code",
   "execution_count": null,
   "metadata": {},
   "outputs": [],
   "source": [
    "sp.pl.plot_shapes(\n",
    "    sdata, \n",
    "    img_layer='combined_RBC', \n",
    "    channel = 1, \n",
    "    shapes_layer=\"segmentation_RBC_cell_intensity_filtered_boundaries\", \n",
    "    output=os.path.join(plots_path , 'segmentation_RBC_3_intensity_filtered.png'),\n",
    "    vmin_img=0,\n",
    "    vmax_img=65535,\n",
    "    alpha=0.2,\n",
    "    figsize=(35,22.5))"
   ]
  },
  {
   "cell_type": "markdown",
   "metadata": {},
   "source": [
    "##### Convert filtered shapes layer into labels layer"
   ]
  },
  {
   "cell_type": "code",
   "execution_count": null,
   "metadata": {},
   "outputs": [],
   "source": [
    "sdata = create_labels_from_shapes(\n",
    "    sdata,\n",
    "    shapes_layer = 'segmentation_RBC_cell_intensity_filtered_boundaries',\n",
    "    out_shape = [4500, 7000],\n",
    "    output_layer = 'segmentation_RBC_cell_intensity_filtered'\n",
    ")"
   ]
  },
  {
   "cell_type": "markdown",
   "metadata": {},
   "source": [
    "### Merge segmentation masks"
   ]
  },
  {
   "cell_type": "code",
   "execution_count": null,
   "metadata": {},
   "outputs": [],
   "source": [
    "sdata=sp.im.merge_labels_layers(\n",
    "    sdata,\n",
    "    labels_layer_1=\"segmentation_immune_cell_intensity_filtered\",\n",
    "    labels_layer_2=\"segmentation_RBC_cell_intensity_filtered\",\n",
    "    depth=200,\n",
    "    chunks=2048,\n",
    "    output_labels_layer=\"merged_immune_RBC\",\n",
    "    output_shapes_layer=\"merged_immune_RBC_boundaries\",\n",
    "    overwrite=True,\n",
    ")\n",
    "\n",
    "# NOTE: This code will give priority to the immune cell masks over the RBC masks (i.e.: if there is a collision, the immune cell will preserve its masks, while the RBC masks will be adapted)"
   ]
  },
  {
   "cell_type": "code",
   "execution_count": null,
   "metadata": {},
   "outputs": [],
   "source": [
    "sdata = sp.im.merge_labels_layers_nuclei(\n",
    "    sdata,\n",
    "    labels_layer=\"merged_immune_RBC\",\n",
    "    labels_layer_nuclei_expanded=\"segmentation_nucleus_expanded\",\n",
    "    labels_layer_nuclei=\"segmentation_nucleus_filtered\",\n",
    "    output_labels_layer=\"merged_all\",\n",
    "    output_shapes_layer=\"merged_all_boundaries\",\n",
    "    overwrite=True,\n",
    "    chunks=2048,\n",
    "    depth=200,\n",
    ")"
   ]
  },
  {
   "cell_type": "code",
   "execution_count": null,
   "metadata": {},
   "outputs": [],
   "source": [
    "sp.pl.plot_shapes(\n",
    "    sdata, \n",
    "    img_layer='combined_immune_min_max_filtered', \n",
    "    channel = 0, \n",
    "    shapes_layer=\"merged_all_boundaries\", \n",
    "    output=os.path.join(plots_path , 'segmentation_merged_DAPI.png'),\n",
    "    vmin_img=0,\n",
    "    vmax_img=65535,\n",
    "    alpha=0.2,\n",
    "    figsize=(35,22.5))"
   ]
  },
  {
   "cell_type": "code",
   "execution_count": null,
   "metadata": {},
   "outputs": [],
   "source": [
    "sp.pl.plot_shapes(\n",
    "    sdata, \n",
    "    img_layer='combined_immune_min_max_filtered', \n",
    "    channel = 1, \n",
    "    shapes_layer=\"merged_all_boundaries\", \n",
    "    output=os.path.join(plots_path , 'segmentation_merged_immune.png'),\n",
    "    vmin_img=0,\n",
    "    vmax_img=65535,\n",
    "    alpha=0.2,\n",
    "    figsize=(35,22.5))"
   ]
  },
  {
   "cell_type": "code",
   "execution_count": null,
   "metadata": {},
   "outputs": [],
   "source": [
    "sp.pl.plot_shapes(\n",
    "    sdata, \n",
    "    img_layer='combined_RBC', \n",
    "    channel = 1, \n",
    "    shapes_layer=\"merged_all_boundaries\", \n",
    "    output=os.path.join(plots_path , 'segmentation_merged_RBC.png'),\n",
    "    vmin_img=0,\n",
    "    vmax_img=65535,\n",
    "    alpha=0.2,\n",
    "    figsize=(35,22.5))"
   ]
  },
  {
   "cell_type": "markdown",
   "metadata": {},
   "source": [
    "##### Filter based on size"
   ]
  },
  {
   "cell_type": "code",
   "execution_count": null,
   "metadata": {},
   "outputs": [],
   "source": [
    "# Filter based on size\n",
    "min_area = 250 # in pixels\n",
    "max_area = 8500 # in pixels\n",
    "sdata.shapes['merged_all_filtered_boundaries'] = sdata.shapes['merged_all_boundaries'][\n",
    "    (sdata.shapes['merged_all_boundaries'].area >= min_area) &\n",
    "    (sdata.shapes['merged_all_boundaries'].area <= max_area)\n",
    "]\n",
    "sd.save_transformations(sdata)"
   ]
  },
  {
   "cell_type": "code",
   "execution_count": null,
   "metadata": {},
   "outputs": [],
   "source": [
    "sp.pl.plot_shapes(\n",
    "    sdata, \n",
    "    img_layer='combined_immune_min_max_filtered', \n",
    "    channel = 0, \n",
    "    shapes_layer=\"merged_all_filtered_boundaries\", \n",
    "    output=os.path.join(plots_path , 'segmentation_merged_DAPI_filtered.png'),\n",
    "    vmin_img=0,\n",
    "    vmax_img=65535,\n",
    "    alpha=0.2,\n",
    "    figsize=(35,22.5))"
   ]
  },
  {
   "cell_type": "code",
   "execution_count": null,
   "metadata": {},
   "outputs": [],
   "source": [
    "sp.pl.plot_shapes(\n",
    "    sdata, \n",
    "    img_layer='combined_immune_min_max_filtered', \n",
    "    channel = 1, \n",
    "    shapes_layer=\"merged_all_filtered_boundaries\", \n",
    "    output=os.path.join(plots_path , 'segmentation_merged_immune_filtered.png'),\n",
    "    vmin_img=0,\n",
    "    vmax_img=65535,\n",
    "    alpha=0.2,\n",
    "    figsize=(35,22.5))"
   ]
  },
  {
   "cell_type": "code",
   "execution_count": null,
   "metadata": {},
   "outputs": [],
   "source": [
    "sp.pl.plot_shapes(\n",
    "    sdata, \n",
    "    img_layer='combined_RBC', \n",
    "    channel = 1, \n",
    "    shapes_layer=\"merged_all_filtered_boundaries\", \n",
    "    output=os.path.join(plots_path , 'segmentation_merged_RBC_filtered.png'),\n",
    "    vmin_img=0,\n",
    "    vmax_img=65535,\n",
    "    alpha=0.2,\n",
    "    figsize=(35,22.5))"
   ]
  },
  {
   "cell_type": "markdown",
   "metadata": {},
   "source": [
    "##### Convert filtered shapes layer into labels layer"
   ]
  },
  {
   "cell_type": "code",
   "execution_count": null,
   "metadata": {},
   "outputs": [],
   "source": [
    "sdata = create_labels_from_shapes(\n",
    "    sdata,\n",
    "    shapes_layer = 'merged_all_filtered_boundaries',\n",
    "    out_shape = [4500, 7000],\n",
    "    output_layer = 'merged_all_filtered'\n",
    ")"
   ]
  },
  {
   "cell_type": "markdown",
   "metadata": {},
   "source": [
    "### Align labels layers"
   ]
  },
  {
   "cell_type": "code",
   "execution_count": null,
   "metadata": {},
   "outputs": [],
   "source": [
    "sdata = sp.im.align_labels_layers(\n",
    "        sdata,\n",
    "        labels_layer_1=\"segmentation_nucleus_filtered\",\n",
    "        labels_layer_2=\"merged_all_filtered\",\n",
    "        output_labels_layer=\"segmentation_nucleus_aligned\",\n",
    "        output_shapes_layer=\"segmentation_nucleus_aligned_boundaries\",\n",
    "        overwrite=True,\n",
    "        chunks=256,\n",
    "        depth=100,\n",
    "    )"
   ]
  },
  {
   "cell_type": "code",
   "execution_count": null,
   "metadata": {},
   "outputs": [],
   "source": [
    "sp.pl.plot_shapes(\n",
    "    sdata, \n",
    "    img_layer='combined_immune', \n",
    "    channel = 'DAPI', \n",
    "    shapes_layer=\"segmentation_nucleus_aligned_boundaries\", \n",
    "    output=os.path.join(plots_path , 'segmentation_nucleus_4_aligned.png'),\n",
    "    vmin_img=0,\n",
    "    vmax_img=65535,\n",
    "    alpha=0.2,\n",
    "    figsize=(35,22.5))"
   ]
  },
  {
   "cell_type": "markdown",
   "metadata": {},
   "source": [
    "### Save segmentation masks"
   ]
  },
  {
   "cell_type": "code",
   "execution_count": null,
   "metadata": {},
   "outputs": [],
   "source": [
    "io.imsave(os.path.join(masks_path, 'segmentation_mask_merged.tiff'), sdata.labels['merged_all_filtered'].compute())\n",
    "io.imsave(os.path.join(masks_path, 'segmentation_mask_nucleus.tiff'), sdata.labels['segmentation_nucleus_aligned'].compute())\n",
    "io.imsave(os.path.join(masks_path, 'segmentation_mask_expanded_nucleus.tiff'), sdata.labels['segmentation_nucleus_expanded'].compute())\n",
    "io.imsave(os.path.join(masks_path, 'segmentation_mask_immune.tiff'), sdata.labels['segmentation_immune_cell_intensity_filtered'].compute())\n",
    "io.imsave(os.path.join(masks_path, 'segmentation_mask_RBC.tiff'), sdata.labels['segmentation_RBC_cell_intensity_filtered'].compute())"
   ]
  },
  {
   "cell_type": "markdown",
   "metadata": {},
   "source": [
    "### sdata"
   ]
  },
  {
   "cell_type": "code",
   "execution_count": null,
   "metadata": {},
   "outputs": [],
   "source": [
    "sdata"
   ]
  }
 ],
 "metadata": {
  "kernelspec": {
   "display_name": "mesmer_sparrow",
   "language": "python",
   "name": "python3"
  },
  "language_info": {
   "codemirror_mode": {
    "name": "ipython",
    "version": 3
   },
   "file_extension": ".py",
   "mimetype": "text/x-python",
   "name": "python",
   "nbconvert_exporter": "python",
   "pygments_lexer": "ipython3",
   "version": "3.10.8"
  }
 },
 "nbformat": 4,
 "nbformat_minor": 2
}
