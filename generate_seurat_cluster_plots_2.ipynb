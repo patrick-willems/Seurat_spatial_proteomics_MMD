{
 "cells": [
  {
   "cell_type": "markdown",
   "metadata": {},
   "source": [
    "Environment: napari_sparrow"
   ]
  },
  {
   "cell_type": "code",
   "execution_count": 1,
   "metadata": {},
   "outputs": [],
   "source": [
    "%load_ext autoreload\n",
    "%autoreload 2"
   ]
  },
  {
   "cell_type": "markdown",
   "metadata": {},
   "source": [
    "### Import packages"
   ]
  },
  {
   "cell_type": "code",
   "execution_count": null,
   "metadata": {},
   "outputs": [],
   "source": [
    "import sparrow as sp\n",
    "import os\n",
    "import spatialdata as sd\n",
    "import cv2 as cv2\n",
    "import spatialdata as sd\n",
    "import pandas as pd"
   ]
  },
  {
   "cell_type": "markdown",
   "metadata": {},
   "source": [
    "### Set paths and create folders"
   ]
  },
  {
   "cell_type": "code",
   "execution_count": 3,
   "metadata": {},
   "outputs": [],
   "source": [
    "# Specify path to root folder\n",
    "root_folder = r'D:\\Data\\2023-07-CarolineAsselman-FIm\\Analysis_v2'\n",
    "\n",
    "# Specify ROI name\n",
    "ROI = 'A1_ROI1'\n",
    "\n",
    "# Path to input folders\n",
    "sdata_path = os.path.join(root_folder, 'output', ROI, 'downstream_analysis')\n",
    "\n",
    "# Path to output folders\n",
    "output_path = os.path.join(root_folder, 'analysis_seurat', ROI)\n",
    "plots_path = os.path.join(output_path, 'plots_3')\n",
    "os.makedirs(output_path, exist_ok = True)\n",
    "os.makedirs(plots_path, exist_ok = True)"
   ]
  },
  {
   "cell_type": "markdown",
   "metadata": {},
   "source": [
    "### Create or read sdata"
   ]
  },
  {
   "cell_type": "code",
   "execution_count": null,
   "metadata": {},
   "outputs": [],
   "source": [
    "sdata = sd.read_zarr(os.path.join(sdata_path, \"sdata.zarr\"))\n",
    "sdata"
   ]
  },
  {
   "cell_type": "markdown",
   "metadata": {},
   "source": [
    "### Read in seurat clusters"
   ]
  },
  {
   "cell_type": "code",
   "execution_count": null,
   "metadata": {},
   "outputs": [],
   "source": [
    "df_before = pd.read_excel(os.path.join(output_path, \"ImmuneObj_cells.xlsx\"), sheet_name='BeforeFiltering')\n",
    "df_before.rename(columns={'cells': 'cell_id', 'cluster': 'clusters_before'}, inplace=True)\n",
    "df_before = df_before[['cell_id', 'clusters_before']]\n",
    "df_before['clusters_before'] = df_before['clusters_before'].astype(str)\n",
    "df_before = df_before.set_index('cell_id')\n",
    "df_before.index = df_before.index.astype(str)\n",
    "df_before"
   ]
  },
  {
   "cell_type": "code",
   "execution_count": null,
   "metadata": {},
   "outputs": [],
   "source": [
    "df_after = pd.read_excel(os.path.join(output_path, \"ImmuneObj_cells.xlsx\"), sheet_name='AfterFiltering')\n",
    "df_after.rename(columns={'cells': 'cell_id', 'cluster': 'clusters_after'}, inplace=True)\n",
    "df_after = df_after[['cell_id', 'clusters_after']]\n",
    "df_after['clusters_after'] = df_after['clusters_after'].astype(str)\n",
    "df_after = df_after.set_index('cell_id')\n",
    "df_after.index = df_after.index.astype(str)\n",
    "df_after"
   ]
  },
  {
   "cell_type": "markdown",
   "metadata": {},
   "source": [
    "### Add seurat clusters to anndata table"
   ]
  },
  {
   "cell_type": "code",
   "execution_count": 18,
   "metadata": {},
   "outputs": [],
   "source": [
    "sdata.table.obs = sdata.table.obs.merge(df_before, left_index=True, right_index=True, how='outer')\n",
    "sdata.table.obs = sdata.table.obs.merge(df_after, left_index=True, right_index=True, how='outer')"
   ]
  },
  {
   "cell_type": "markdown",
   "metadata": {},
   "source": [
    "### Plots for immune cells"
   ]
  },
  {
   "cell_type": "code",
   "execution_count": 20,
   "metadata": {},
   "outputs": [],
   "source": [
    "from matplotlib.colors import ListedColormap\n",
    "\n",
    "# Define the colors in a dictionary format\n",
    "colors_dict_before = {\n",
    "    '0': \"#FBF955\",\n",
    "    '1': \"#1AFF1A\",\n",
    "    '2': \"#7AE4FB\",\n",
    "    '3': \"#FB64F1\",\n",
    "}\n",
    "\n",
    "colors_dict_after = {\n",
    "    '0': \"#1AFF1A\",\n",
    "    '1': \"#7AE4FB\",\n",
    "    '2': \"#FB64F1\",\n",
    "}\n",
    "\n",
    "# Create a custom colormap\n",
    "cmap_sub_before = ListedColormap([colors_dict_before[key] for key in sorted(colors_dict_before.keys())])\n",
    "cmap_sub_after = ListedColormap([colors_dict_after[key] for key in sorted(colors_dict_after.keys())])\n"
   ]
  },
  {
   "cell_type": "code",
   "execution_count": null,
   "metadata": {},
   "outputs": [],
   "source": [
    "sp.pl.plot_shapes(\n",
    "    sdata, \n",
    "    img_layer='raw_image',\n",
    "    channel = 'DAPI',\n",
    "    shapes_layer=\"segmentation_mask_merged_boundaries\", \n",
    "    output=os.path.join(plots_path , 'cluster_before.png'),\n",
    "    alpha=1,\n",
    "    cmap=cmap_sub_before,\n",
    "    column='clusters_before',\n",
    "    figsize=(17.5, 11.25)\n",
    ")\n",
    "\n",
    "sp.pl.plot_shapes(\n",
    "    sdata, \n",
    "    img_layer='raw_image',\n",
    "    channel = 'DAPI',\n",
    "    shapes_layer=\"segmentation_mask_merged_boundaries\", \n",
    "    output=os.path.join(plots_path , 'cluster_after.png'),\n",
    "    alpha=1,\n",
    "    cmap=cmap_sub_after,\n",
    "    column='clusters_after',\n",
    "    figsize=(17.5, 11.25)\n",
    ")"
   ]
  }
 ],
 "metadata": {
  "kernelspec": {
   "display_name": "napari-sparrow_CG",
   "language": "python",
   "name": "python3"
  },
  "language_info": {
   "codemirror_mode": {
    "name": "ipython",
    "version": 3
   },
   "file_extension": ".py",
   "mimetype": "text/x-python",
   "name": "python",
   "nbconvert_exporter": "python",
   "pygments_lexer": "ipython3",
   "version": "3.10.8"
  }
 },
 "nbformat": 4,
 "nbformat_minor": 2
}
