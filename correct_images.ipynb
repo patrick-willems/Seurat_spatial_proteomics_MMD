{
 "cells": [
  {
   "cell_type": "markdown",
   "metadata": {},
   "source": [
    "### Import packages"
   ]
  },
  {
   "cell_type": "code",
   "execution_count": null,
   "metadata": {},
   "outputs": [],
   "source": [
    "import os\n",
    "from aicsimageio import AICSImage\n",
    "from skimage import io\n",
    "import re"
   ]
  },
  {
   "cell_type": "markdown",
   "metadata": {},
   "source": [
    "### Specify paths"
   ]
  },
  {
   "cell_type": "code",
   "execution_count": null,
   "metadata": {},
   "outputs": [],
   "source": [
    "# Specify path to root folder\n",
    "root_folder = 'D:/Data/2023-07-CarolineAsselman-FIm/Analysis_v2'\n",
    "\n",
    "# Path to input folder\n",
    "images_path = os.path.join(root_folder, 'images')\n",
    "\n",
    "# Path to output folder\n",
    "corrected_images_path = os.path.join(root_folder, 'images_size_corrected')\n",
    "os.makedirs(corrected_images_path, exist_ok = True)"
   ]
  },
  {
   "cell_type": "markdown",
   "metadata": {},
   "source": [
    "### Get maximum image XY-shifts for all ROIs"
   ]
  },
  {
   "cell_type": "code",
   "execution_count": null,
   "metadata": {},
   "outputs": [],
   "source": [
    "def get_shifts_per_ROI(data_folder):\n",
    "    image_shifts_per_ROI = {}\n",
    "    max_shifts_per_ROI = {}\n",
    "\n",
    "    for ROI in os.listdir(data_folder):\n",
    "        ROI_image_shifts = []\n",
    "        ROI_max_shift_x = float('-inf')  # Initialize to negative infinity\n",
    "        ROI_max_shift_y = float('-inf')  # Initialize to negative infinity\n",
    "\n",
    "        ROI_path = os.path.join(data_folder, ROI)\n",
    "\n",
    "        for file in os.listdir(ROI_path):\n",
    "            if file.endswith('.tif'):\n",
    "                img = AICSImage(os.path.join(ROI_path, file))\n",
    "\n",
    "                image_shifts = (int(re.findall(r'PositionX=\"(\\d+)\"', img.metadata)[0]), int(re.findall(r'PositionY=\"(\\d+)\"', img.metadata)[0]))\n",
    "\n",
    "                ROI_image_shifts.append(image_shifts)\n",
    "                ROI_max_shift_x = max(ROI_max_shift_x, image_shifts[0])\n",
    "                ROI_max_shift_y = max(ROI_max_shift_y, image_shifts[1])\n",
    "\n",
    "        image_shifts_per_ROI[ROI] = ROI_image_shifts\n",
    "        max_shifts_per_ROI[ROI] = (ROI_max_shift_x, ROI_max_shift_y)\n",
    "        \n",
    "    for ROI, shifts in image_shifts_per_ROI.items():\n",
    "        print(f\"ROI: {ROI}\")\n",
    "        print(f\"Unique images shifts: {set(shifts)}\")\n",
    "\n",
    "    for ROI, max_shifts in max_shifts_per_ROI.items():\n",
    "        print(f\"Folder: {ROI}\")\n",
    "        print(f\"Maximum shifts: {max_shifts}\")\n",
    "\n",
    "    return image_shifts_per_ROI, max_shifts_per_ROI"
   ]
  },
  {
   "cell_type": "code",
   "execution_count": null,
   "metadata": {},
   "outputs": [],
   "source": [
    "image_shifts_per_ROI, max_shifts_per_ROI = get_shifts_per_ROI(data_folder = images_path)"
   ]
  },
  {
   "cell_type": "markdown",
   "metadata": {},
   "source": [
    "### Correct image shifts"
   ]
  },
  {
   "cell_type": "code",
   "execution_count": null,
   "metadata": {},
   "outputs": [],
   "source": [
    "def correct_shifts(data_folder, output_folder, max_shifts_per_ROI):\n",
    "    for ROI, max_shifts in max_shifts_per_ROI.items():\n",
    "        output_subfolder = os.path.join(output_folder, ROI)\n",
    "        os.makedirs(output_subfolder, exist_ok=True)\n",
    "        \n",
    "        for file in os.listdir(os.path.join(data_folder, ROI)):\n",
    "            if file.endswith('.tif'):\n",
    "                img = AICSImage(os.path.join(data_folder, ROI, file))\n",
    "                img_xy = img.data[0,0,0,:,:]\n",
    "                \n",
    "                image_shifts = (int(re.findall(r'PositionX=\"(\\d+)\"', img.metadata)[0]), int(re.findall(r'PositionY=\"(\\d+)\"', img.metadata)[0]))\n",
    "                shift_correction = (max_shifts[0] - image_shifts[0], max_shifts[1] - image_shifts[1])\n",
    "                \n",
    "                img_corrected = img_xy[shift_correction[1]:, shift_correction[0]:] \n",
    "                \n",
    "                output_file = os.path.join(output_subfolder, file)\n",
    "                io.imsave(output_file, img_corrected)               "
   ]
  },
  {
   "cell_type": "code",
   "execution_count": null,
   "metadata": {},
   "outputs": [],
   "source": [
    "correct_shifts(data_folder = images_path, output_folder = corrected_images_path, max_shifts_per_ROI = max_shifts_per_ROI)"
   ]
  },
  {
   "cell_type": "markdown",
   "metadata": {},
   "source": [
    "### Apply an additional manual shift to correct for inaccurate alignment from MACS IQ View preprocessing"
   ]
  },
  {
   "cell_type": "code",
   "execution_count": null,
   "metadata": {},
   "outputs": [],
   "source": [
    "def manual_correction(data_folder, output_folder, shifted_channels_per_ROI, manual_correction_per_ROI):\n",
    "    for ROI, manual_correction in manual_correction_per_ROI.items():\n",
    "        output_subfolder = os.path.join(output_folder, ROI)\n",
    "        os.makedirs(output_subfolder, exist_ok=True)\n",
    "        \n",
    "        for file in os.listdir(os.path.join(data_folder, ROI)):\n",
    "            if file.endswith('.tif') and not any(channel in file for channel in shifted_channels_per_ROI[ROI]):\n",
    "                img = io.imread(os.path.join(data_folder, ROI, file))\n",
    "                img_corrected = img[manual_correction[1]:, manual_correction[0]:] \n",
    "                \n",
    "                output_file = os.path.join(output_subfolder, file)\n",
    "                io.imsave(output_file, img_corrected)   "
   ]
  },
  {
   "cell_type": "code",
   "execution_count": null,
   "metadata": {},
   "outputs": [],
   "source": [
    "shifted_channels_per_ROI = {\n",
    "    'A1_ROI1' : [\n",
    "        'CD45RA_C-REAL164',\n",
    "        'AnnexinI_C-REA1122',\n",
    "        'MLC2v_C-REA401',\n",
    "        'CD279_C-REA116',\n",
    "        'Cytokeratin1013_C-REA1138',\n",
    "        'CD196_C-REA190',\n",
    "        'CD90_C-REAL677',\n",
    "        'Metallothionein_C-REA1139',\n",
    "    ],\n",
    "}\n",
    "\n",
    "manual_correction_per_ROI = {\n",
    "    'A1_ROI1' : (15,0),\n",
    "\n",
    "}\n",
    "\n",
    "manual_correction(corrected_images_path, corrected_images_path, shifted_channels_per_ROI, manual_correction_per_ROI)"
   ]
  },
  {
   "cell_type": "markdown",
   "metadata": {},
   "source": [
    "### Get minimum XY-dimensions for all ROIs"
   ]
  },
  {
   "cell_type": "code",
   "execution_count": null,
   "metadata": {},
   "outputs": [],
   "source": [
    "def get_dimensions_per_ROI(data_folder):\n",
    "    image_dimensions_per_ROI = {}\n",
    "    min_dimensions_per_ROI = {}\n",
    "\n",
    "    for ROI in os.listdir(data_folder):\n",
    "        ROI_image_dimensions = []\n",
    "        ROI_min_x = float('inf')  # Initialize to positive infinity\n",
    "        ROI_min_y = float('inf')  # Initialize to positive infinity\n",
    "\n",
    "        ROI_path = os.path.join(data_folder, ROI)\n",
    "\n",
    "        for file in os.listdir(ROI_path):\n",
    "            if file.endswith('.tif'):\n",
    "                img = AICSImage(os.path.join(ROI_path, file))\n",
    "\n",
    "                image_shape = (img.dims.X, img.dims.Y)\n",
    "\n",
    "                ROI_image_dimensions.append(image_shape)\n",
    "                ROI_min_x = min(ROI_min_x, image_shape[0])\n",
    "                ROI_min_y = min(ROI_min_y, image_shape[1])\n",
    "\n",
    "        image_dimensions_per_ROI[ROI] = ROI_image_dimensions\n",
    "        min_dimensions_per_ROI[ROI] = (ROI_min_x, ROI_min_y)\n",
    "\n",
    "    for ROI, dimensions in image_dimensions_per_ROI.items():\n",
    "        print(f\"ROI: {ROI}\")\n",
    "        print(f\"Unique images sizes: {set(dimensions)}\")\n",
    "\n",
    "    for ROI, min_dims in min_dimensions_per_ROI.items():\n",
    "        print(f\"Folder: {ROI}\")\n",
    "        print(f\"Minimum dimensions: {min_dims}\")\n",
    "        \n",
    "    return image_dimensions_per_ROI, min_dimensions_per_ROI"
   ]
  },
  {
   "cell_type": "code",
   "execution_count": null,
   "metadata": {},
   "outputs": [],
   "source": [
    "image_dimensions_per_ROI, min_dimensions_per_ROI = get_dimensions_per_ROI(data_folder = corrected_images_path)"
   ]
  },
  {
   "cell_type": "markdown",
   "metadata": {},
   "source": [
    "### Correct image sizes"
   ]
  },
  {
   "cell_type": "code",
   "execution_count": null,
   "metadata": {},
   "outputs": [],
   "source": [
    "def correct_sizes(data_folder, output_folder, min_dimensions_per_ROI):\n",
    "    for ROI, min_dims in min_dimensions_per_ROI.items():\n",
    "        output_subfolder = os.path.join(output_folder, ROI)\n",
    "        os.makedirs(output_subfolder, exist_ok=True)\n",
    "        \n",
    "        for file in os.listdir(os.path.join(data_folder, ROI)):\n",
    "            if file.endswith('.tif'):\n",
    "                img = io.imread(os.path.join(data_folder, ROI, file))\n",
    "                img_corrected = img[:min_dims[1], :min_dims[0]]\n",
    "                \n",
    "                output_file = os.path.join(output_subfolder, file)\n",
    "                io.imsave(output_file, img_corrected)   "
   ]
  },
  {
   "cell_type": "code",
   "execution_count": null,
   "metadata": {},
   "outputs": [],
   "source": [
    "correct_sizes(data_folder = corrected_images_path, output_folder = corrected_images_path, min_dimensions_per_ROI = min_dimensions_per_ROI)"
   ]
  },
  {
   "cell_type": "markdown",
   "metadata": {},
   "source": [
    "### Check image sizes"
   ]
  },
  {
   "cell_type": "code",
   "execution_count": null,
   "metadata": {},
   "outputs": [],
   "source": [
    "image_dimensions_per_ROI, min_dimensions_per_ROI = get_dimensions_per_ROI(data_folder=corrected_images_path)"
   ]
  }
 ],
 "metadata": {
  "kernelspec": {
   "display_name": "scratch",
   "language": "python",
   "name": "python3"
  },
  "language_info": {
   "codemirror_mode": {
    "name": "ipython",
    "version": 3
   },
   "file_extension": ".py",
   "mimetype": "text/x-python",
   "name": "python",
   "nbconvert_exporter": "python",
   "pygments_lexer": "ipython3",
   "version": "3.8.15"
  }
 },
 "nbformat": 4,
 "nbformat_minor": 2
}
